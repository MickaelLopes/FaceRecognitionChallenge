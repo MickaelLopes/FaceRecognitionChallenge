{
 "cells": [
  {
   "cell_type": "code",
   "execution_count": 2,
   "metadata": {},
   "outputs": [
    {
     "name": "stderr",
     "output_type": "stream",
     "text": [
      "/home/mickael/.local/lib/python3.6/site-packages/matplotlib/__init__.py:886: MatplotlibDeprecationWarning: \n",
      "examples.directory is deprecated; in the future, examples will be found relative to the 'datapath' directory.\n",
      "  \"found relative to the 'datapath' directory.\".format(key))\n"
     ]
    }
   ],
   "source": [
    "%matplotlib inline\n",
    "import numpy as np\n",
    "import sys\n",
    "import os\n",
    "import pandas as pd\n",
    "import matplotlib.pyplot as plt\n",
    "import math\n",
    "import pickle\n",
    "from sklearn.discriminant_analysis import LinearDiscriminantAnalysis\n",
    "from sklearn.ensemble import RandomForestClassifier\n",
    "from sklearn.model_selection import train_test_split\n",
    "from sklearn.model_selection import cross_validate\n",
    "from sklearn.model_selection import cross_val_score\n",
    "from sklearn.metrics import confusion_matrix\n",
    "from sklearn.metrics import roc_curve\n",
    "from sklearn.metrics import make_scorer\n",
    "from xgboost import XGBClassifier\n",
    "from sklearn.model_selection import GridSearchCV\n",
    "import seaborn as sns \n",
    "\n",
    "sns.set(style=\"white\")"
   ]
  },
  {
   "cell_type": "code",
   "execution_count": 15,
   "metadata": {},
   "outputs": [],
   "source": [
    "# utilities\n",
    "def confusion_matrix_rate(y_true, y_pred_soft, proba_limit = 0.5):\n",
    "    # We assume that first column of ypred represents the 0 proba \n",
    "    # And the second column represent the 1 proba \n",
    "    proba_0 = ypred_proba[:,0]\n",
    "    ypred_reco = [0 if x>proba_limit else 1 for x in proba_0]\n",
    "    ypred_reco = np.asarray(ypred_reco)\n",
    "    df = pd.DataFrame(confusion_matrix(ytrue,ypred_reco), \n",
    "             columns = [\"Predict 0\", \"Predict 1\"], \n",
    "             index = [\"Real 0\", \"Real 1\"])\n",
    "    mask_predict_0 = (ypred_reco==0)\n",
    "    n = len(ytrue)\n",
    "    num_pred0 = sum(ypred_reco==0)\n",
    "    num_true0_onpred0 = sum(ytrue[mask_predict_0]==0)\n",
    "    print(\"Precision of 0 in our dataset is {}\".format(num_true0_onpred0/num_pred0))\n",
    "    print(\"For this precision level, we predict {}% of the dataset\".format(num_pred0/n *100))\n",
    "    print(df)"
   ]
  },
  {
   "cell_type": "markdown",
   "metadata": {},
   "source": [
    "# Load of Data"
   ]
  },
  {
   "cell_type": "code",
   "execution_count": 8,
   "metadata": {},
   "outputs": [],
   "source": [
    "# Load Training Data\n",
    "# nrows_load = 50000 \n",
    "X_train_raw = pd.read_csv('InputData/xtrain_challenge.csv')\n",
    "y_train_raw = pd.read_csv('InputData/ytrain_challenge.csv')\n",
    "y_train_raw = np.array(y_train_raw).ravel()"
   ]
  },
  {
   "cell_type": "markdown",
   "metadata": {},
   "source": [
    "# Create 1st classifier for prediction 0\n",
    "> The goal of this first classifier is to predict the 0 (unmatch) with the best accuracy. Our goal is to maximize the number of 0 prediction with the most True Positive Rate and the minimun false rate"
   ]
  },
  {
   "cell_type": "code",
   "execution_count": 5,
   "metadata": {},
   "outputs": [],
   "source": [
    "def scoringStage1(y_true,y_pred):\n",
    "    conf = confusion_matrix(y_true,y_pred)\n",
    "    n0_true = conf[0,0]\n",
    "    n0 = np.sum(conf[:,0])\n",
    "    n = len(y_true)\n",
    "    PredictPercentage = n0/n\n",
    "    PredictPrecision = n0_true/n0\n",
    "    return PredictPercentage * (PredictPrecision ** 2)\n",
    "scoring = make_scorer(scoringStage1)"
   ]
  },
  {
   "cell_type": "code",
   "execution_count": 6,
   "metadata": {},
   "outputs": [],
   "source": [
    "xgb0 = XGBClassifier(learning_rate = 0.05, n_estimators=1000, \n",
    "                    objective='binary:logistic', max_depth=4,\n",
    "                    silent=True)"
   ]
  },
  {
   "cell_type": "code",
   "execution_count": 10,
   "metadata": {},
   "outputs": [],
   "source": [
    "X_train, X_test, y_train, y_test = train_test_split(X_train_raw, y_train_raw, test_size=0.20, random_state=42)"
   ]
  },
  {
   "cell_type": "code",
   "execution_count": 11,
   "metadata": {},
   "outputs": [
    {
     "name": "stderr",
     "output_type": "stream",
     "text": [
      "/home/mickael/anaconda3/lib/python3.6/site-packages/sklearn/model_selection/_split.py:652: Warning: The least populated class in y has only 1 members, which is too few. The minimum number of members in any class cannot be less than n_splits=5.\n",
      "  % (min_groups, self.n_splits)), Warning)\n"
     ]
    },
    {
     "data": {
      "text/plain": [
       "XGBClassifier(base_score=0.5, booster='gbtree', colsample_bylevel=1,\n",
       "       colsample_bytree=1, gamma=0, learning_rate=0.05, max_delta_step=0,\n",
       "       max_depth=4, min_child_weight=1, missing=None, n_estimators=1000,\n",
       "       n_jobs=1, nthread=None, objective='binary:logistic', random_state=0,\n",
       "       reg_alpha=0, reg_lambda=1, scale_pos_weight=1, seed=None,\n",
       "       silent=True, subsample=1)"
      ]
     },
     "execution_count": 11,
     "metadata": {},
     "output_type": "execute_result"
    }
   ],
   "source": [
    "cv_results = cross_validate(xgb0, X_train_raw[0:10], y_train_raw[0:10], scoring=scoring, cv=5)\n",
    "\n",
    "xgb0.fit(X_train[0:10],y_train[0:10])"
   ]
  },
  {
   "cell_type": "code",
   "execution_count": 14,
   "metadata": {},
   "outputs": [],
   "source": [
    "cv_results\n",
    "soft = xgb0.predict_proba(X_test)"
   ]
  },
  {
   "cell_type": "code",
   "execution_count": 16,
   "metadata": {},
   "outputs": [
    {
     "name": "stdout",
     "output_type": "stream",
     "text": [
      "Precision of 0 in our dataset is 0.9447895100069013\n",
      "For this precision level, we predict 73.43674965938935% of the dataset\n",
      "        Predict 0  Predict 1\n",
      "Real 0     443556      12754\n",
      "Real 1      25920     157063\n"
     ]
    }
   ],
   "source": [
    "confusion_matrix_rate(y_test,soft,0.5)"
   ]
  },
  {
   "cell_type": "markdown",
   "metadata": {
    "heading_collapsed": true
   },
   "source": [
    "# Hyper Tuning "
   ]
  },
  {
   "cell_type": "code",
   "execution_count": null,
   "metadata": {
    "hidden": true
   },
   "outputs": [],
   "source": [
    "# Xgboost parameter\n",
    "params = {\n",
    "        'min_child_weight': [1, 5, 10],\n",
    "        'gamma': [0.5, 1, 1.5, 2, 5],\n",
    "        'subsample': [0.6, 0.8, 1.0],\n",
    "        'colsample_bytree': [0.6, 0.8, 1.0],\n",
    "        'max_depth': [3, 4, 5]\n",
    "        'learning_rate': [0.05, 0.1, 0.15, 0.3, 0.5]\n",
    "        }"
   ]
  },
  {
   "cell_type": "code",
   "execution_count": 62,
   "metadata": {
    "hidden": true
   },
   "outputs": [
    {
     "name": "stderr",
     "output_type": "stream",
     "text": [
      "/home/mickael/anaconda3/lib/python3.6/site-packages/sklearn/utils/deprecation.py:125: FutureWarning: You are accessing a training score ('train_score'), which will not be available by default any more in 0.21. If you need training scores, please set return_train_score=True\n",
      "  warnings.warn(*warn_args, **warn_kwargs)\n"
     ]
    },
    {
     "data": {
      "text/plain": [
       "{'fit_time': array([0.04671049, 0.04121351, 0.04036546, 0.03984928, 0.04319882]),\n",
       " 'score_time': array([0.00115585, 0.00113678, 0.00115323, 0.00114107, 0.00145698]),\n",
       " 'test_score': array([0.44444444, 1.        , 1.        , 1.        , 1.        ]),\n",
       " 'train_score': array([1.        , 0.765625  , 0.765625  , 0.765625  , 0.79012346])}"
      ]
     },
     "execution_count": 62,
     "metadata": {},
     "output_type": "execute_result"
    }
   ],
   "source": [
    "cv_results"
   ]
  },
  {
   "cell_type": "markdown",
   "metadata": {},
   "source": [
    "# Save the model"
   ]
  },
  {
   "cell_type": "code",
   "execution_count": 7,
   "metadata": {},
   "outputs": [],
   "source": [
    "pkl_filename = \"xgboost_stage1_model.pkl\"  \n",
    "with open(pkl_filename, 'wb') as file:  \n",
    "    pickle.dump(xgb0, file)"
   ]
  },
  {
   "cell_type": "code",
   "execution_count": null,
   "metadata": {},
   "outputs": [],
   "source": []
  }
 ],
 "metadata": {
  "kernelspec": {
   "display_name": "Python 3",
   "language": "python",
   "name": "python3"
  },
  "language_info": {
   "codemirror_mode": {
    "name": "ipython",
    "version": 3
   },
   "file_extension": ".py",
   "mimetype": "text/x-python",
   "name": "python",
   "nbconvert_exporter": "python",
   "pygments_lexer": "ipython3",
   "version": "3.6.8"
  }
 },
 "nbformat": 4,
 "nbformat_minor": 2
}
