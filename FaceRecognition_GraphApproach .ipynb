{
 "cells": [
  {
   "cell_type": "code",
   "execution_count": 43,
   "metadata": {},
   "outputs": [],
   "source": [
    "from graph_tool.all import *\n",
    "from sklearn.preprocessing import LabelEncoder\n",
    "import pandas as pd\n",
    "import numpy as np\n",
    "import time\n"
   ]
  },
  {
   "cell_type": "code",
   "execution_count": 3,
   "metadata": {},
   "outputs": [],
   "source": [
    "X_train_raw = pd.read_csv('InputData/xtrain_challenge.csv')\n",
    "y_train_raw = pd.read_csv('InputData/ytrain_challenge.csv')\n",
    "y_train_raw = np.array(y_train_raw).ravel()\n",
    "X_test_raw = pd.read_csv('InputData/xtest_challenge.csv')"
   ]
  },
  {
   "cell_type": "code",
   "execution_count": 4,
   "metadata": {},
   "outputs": [],
   "source": [
    "cols_A= [\"fA1\",\"fA2\",\"fA3\",\"fA4\",\"fA5\",\"fA6\",\"fA7\",\n",
    "           \"fA8\",\"fA9\",\"fA10\",\"fA11\",\"fA12\",\"fA13\",\"fA14\"]\n",
    "cols_B= [\"fB1\",\"fB2\",\"fB3\",\"fB4\",\"fB5\",\"fB6\",\"fB7\",\n",
    "           \"fB8\",\"fB9\",\"fB10\",\"fB11\",\"fB12\",\"fB13\",\"fB14\"]\n",
    "cols_s= [\"s1\",\"s2\",\"s3\",\"s4\",\"s5\",\"s6\",\"s7\",\"s8\"]"
   ]
  },
  {
   "cell_type": "code",
   "execution_count": 7,
   "metadata": {},
   "outputs": [],
   "source": [
    "def _create_list_of_images_feat(X_raw):\n",
    "    X = X_raw.copy()\n",
    "    \n",
    "    X[\"featA\"] = X[\"fA1\"].astype(\"str\")+\"_\"+X[\"fA2\"].astype(\"str\")+\"_\"+ \\\n",
    "    X[\"fA3\"].astype(\"str\")+\"_\"+X[\"fA4\"].astype(\"str\")+\"_\"+ \\\n",
    "    X[\"fA5\"].astype(\"str\")+\"_\"+X[\"fA6\"].astype(\"str\")+\"_\"+ \\\n",
    "    X[\"fA7\"].astype(\"str\")+\"_\"+X[\"fA8\"].astype(\"str\")+\"_\"+ \\\n",
    "    X[\"fA9\"].astype(\"str\")+\"_\"+X[\"fA10\"].astype(\"str\")+\"_\"+ \\\n",
    "    X[\"fA11\"].astype(\"str\")+\"_\"+X[\"fA12\"].astype(\"str\")+\"_\"+ \\\n",
    "    X[\"fA13\"].astype(\"str\")+\"_\"+X[\"fA14\"].astype(\"str\")\n",
    "\n",
    "    X[\"featB\"] = X[\"fB1\"].astype(\"str\")+\"_\"+X[\"fB2\"].astype(\"str\")+\"_\"+ \\\n",
    "    X[\"fB3\"].astype(\"str\")+\"_\"+X[\"fB4\"].astype(\"str\")+\"_\"+ \\\n",
    "    X[\"fB5\"].astype(\"str\")+\"_\"+X[\"fB6\"].astype(\"str\")+\"_\"+ \\\n",
    "    X[\"fB7\"].astype(\"str\")+\"_\"+X[\"fB8\"].astype(\"str\")+\"_\"+ \\\n",
    "    X[\"fB9\"].astype(\"str\")+\"_\"+X[\"fB10\"].astype(\"str\")+\"_\"+ \\\n",
    "    X[\"fB11\"].astype(\"str\")+\"_\"+X[\"fB12\"].astype(\"str\")+\"_\"+ \\\n",
    "    X[\"fB13\"].astype(\"str\")+\"_\"+X[\"fB14\"].astype(\"str\")\n",
    "\n",
    "    X.drop(cols_A, axis = 1, inplace = True)\n",
    "    X.drop(cols_B, axis = 1, inplace = True)\n",
    "    X.drop(cols_s, axis = 1, inplace = True)\n",
    "    \n",
    "    df=pd.concat([X[\"featA\"],X[\"featB\"]],axis = 0)\n",
    "    \n",
    "    return df\n",
    "    "
   ]
  },
  {
   "cell_type": "code",
   "execution_count": 8,
   "metadata": {},
   "outputs": [],
   "source": [
    "X_train_images = _create_list_of_images_feat(X_train_raw)\n",
    "X_test_images = _create_list_of_images_feat(X_test_raw)\n",
    "X_all_images = pd.concat([X_train_images, X_test_images], axis = 0 )"
   ]
  },
  {
   "cell_type": "code",
   "execution_count": 15,
   "metadata": {},
   "outputs": [
    {
     "data": {
      "text/plain": [
       "LabelEncoder()"
      ]
     },
     "execution_count": 15,
     "metadata": {},
     "output_type": "execute_result"
    }
   ],
   "source": [
    "le = LabelEncoder()\n",
    "le.fit(X_all_images)"
   ]
  },
  {
   "cell_type": "code",
   "execution_count": 18,
   "metadata": {},
   "outputs": [],
   "source": [
    "def label_encoding(X_raw, le): \n",
    "    X = X_raw.copy()\n",
    "    \n",
    "    X[\"featA\"] = X[\"fA1\"].astype(\"str\")+\"_\"+X[\"fA2\"].astype(\"str\")+\"_\"+ \\\n",
    "    X[\"fA3\"].astype(\"str\")+\"_\"+X[\"fA4\"].astype(\"str\")+\"_\"+ \\\n",
    "    X[\"fA5\"].astype(\"str\")+\"_\"+X[\"fA6\"].astype(\"str\")+\"_\"+ \\\n",
    "    X[\"fA7\"].astype(\"str\")+\"_\"+X[\"fA8\"].astype(\"str\")+\"_\"+ \\\n",
    "    X[\"fA9\"].astype(\"str\")+\"_\"+X[\"fA10\"].astype(\"str\")+\"_\"+ \\\n",
    "    X[\"fA11\"].astype(\"str\")+\"_\"+X[\"fA12\"].astype(\"str\")+\"_\"+ \\\n",
    "    X[\"fA13\"].astype(\"str\")+\"_\"+X[\"fA14\"].astype(\"str\")\n",
    "\n",
    "    X[\"featB\"] = X[\"fB1\"].astype(\"str\")+\"_\"+X[\"fB2\"].astype(\"str\")+\"_\"+ \\\n",
    "    X[\"fB3\"].astype(\"str\")+\"_\"+X[\"fB4\"].astype(\"str\")+\"_\"+ \\\n",
    "    X[\"fB5\"].astype(\"str\")+\"_\"+X[\"fB6\"].astype(\"str\")+\"_\"+ \\\n",
    "    X[\"fB7\"].astype(\"str\")+\"_\"+X[\"fB8\"].astype(\"str\")+\"_\"+ \\\n",
    "    X[\"fB9\"].astype(\"str\")+\"_\"+X[\"fB10\"].astype(\"str\")+\"_\"+ \\\n",
    "    X[\"fB11\"].astype(\"str\")+\"_\"+X[\"fB12\"].astype(\"str\")+\"_\"+ \\\n",
    "    X[\"fB13\"].astype(\"str\")+\"_\"+X[\"fB14\"].astype(\"str\")\n",
    "\n",
    "    X.drop(cols_A, axis = 1, inplace = True)\n",
    "    X.drop(cols_B, axis = 1, inplace = True)\n",
    "    X.drop(cols_s, axis = 1, inplace = True)\n",
    "    \n",
    "    X[\"idA\"] = le.transform(X[\"featA\"])\n",
    "    X[\"idB\"] = le.transform(X[\"featB\"])\n",
    "\n",
    "    X.drop([\"featA\",\"featB\"], axis = 1 , inplace=True)\n",
    "    \n",
    "    return X"
   ]
  },
  {
   "cell_type": "code",
   "execution_count": 20,
   "metadata": {},
   "outputs": [],
   "source": [
    "X_train_lbl = label_encoding(X_train_raw, le)\n",
    "X_test_lbl = label_encoding(X_test_raw, le)"
   ]
  },
  {
   "cell_type": "code",
   "execution_count": 22,
   "metadata": {},
   "outputs": [
    {
     "name": "stderr",
     "output_type": "stream",
     "text": [
      "/home/mickael/.local/lib/python3.6/site-packages/ipykernel_launcher.py:3: SettingWithCopyWarning: \n",
      "A value is trying to be set on a copy of a slice from a DataFrame\n",
      "\n",
      "See the caveats in the documentation: http://pandas.pydata.org/pandas-docs/stable/indexing.html#indexing-view-versus-copy\n",
      "  This is separate from the ipykernel package so we can avoid doing imports until\n"
     ]
    }
   ],
   "source": [
    "mask_match = (y_train_raw == 1)\n",
    "X_train_match = X_train_lbl[mask_match]\n",
    "X_train_match.drop_duplicates(inplace=True)"
   ]
  },
  {
   "cell_type": "code",
   "execution_count": 23,
   "metadata": {},
   "outputs": [],
   "source": [
    "g_match = Graph(directed  = False)"
   ]
  },
  {
   "cell_type": "code",
   "execution_count": 25,
   "metadata": {},
   "outputs": [],
   "source": [
    "g_match.add_edge_list(X_train_match.values)"
   ]
  },
  {
   "cell_type": "code",
   "execution_count": 27,
   "metadata": {},
   "outputs": [],
   "source": [
    "X_test_lbl[\"y\"] = 0"
   ]
  },
  {
   "cell_type": "code",
   "execution_count": 32,
   "metadata": {},
   "outputs": [
    {
     "data": {
      "text/html": [
       "<div>\n",
       "<style scoped>\n",
       "    .dataframe tbody tr th:only-of-type {\n",
       "        vertical-align: middle;\n",
       "    }\n",
       "\n",
       "    .dataframe tbody tr th {\n",
       "        vertical-align: top;\n",
       "    }\n",
       "\n",
       "    .dataframe thead th {\n",
       "        text-align: right;\n",
       "    }\n",
       "</style>\n",
       "<table border=\"1\" class=\"dataframe\">\n",
       "  <thead>\n",
       "    <tr style=\"text-align: right;\">\n",
       "      <th></th>\n",
       "      <th>idA</th>\n",
       "      <th>idB</th>\n",
       "    </tr>\n",
       "  </thead>\n",
       "  <tbody>\n",
       "    <tr>\n",
       "      <th>5</th>\n",
       "      <td>24518</td>\n",
       "      <td>112373</td>\n",
       "    </tr>\n",
       "    <tr>\n",
       "      <th>12</th>\n",
       "      <td>110624</td>\n",
       "      <td>115300</td>\n",
       "    </tr>\n",
       "    <tr>\n",
       "      <th>16</th>\n",
       "      <td>116170</td>\n",
       "      <td>88704</td>\n",
       "    </tr>\n",
       "    <tr>\n",
       "      <th>17</th>\n",
       "      <td>84056</td>\n",
       "      <td>97034</td>\n",
       "    </tr>\n",
       "    <tr>\n",
       "      <th>18</th>\n",
       "      <td>9939</td>\n",
       "      <td>1781</td>\n",
       "    </tr>\n",
       "  </tbody>\n",
       "</table>\n",
       "</div>"
      ],
      "text/plain": [
       "       idA     idB\n",
       "5    24518  112373\n",
       "12  110624  115300\n",
       "16  116170   88704\n",
       "17   84056   97034\n",
       "18    9939    1781"
      ]
     },
     "execution_count": 32,
     "metadata": {},
     "output_type": "execute_result"
    }
   ],
   "source": [
    "X_train_match.head()"
   ]
  },
  {
   "cell_type": "code",
   "execution_count": 46,
   "metadata": {},
   "outputs": [],
   "source": [
    "def _check_match(row): \n",
    "    match = 0 \n",
    "    dist = shortest_distance(g_match, source=g_match.vertex(lblA), target = g_match.vertex(lblB))\n",
    "    if dist < 2147483600: \n",
    "        match = 1\n",
    "    \n",
    "    row[\"y\"] = match \n",
    "    return row\n"
   ]
  },
  {
   "cell_type": "code",
   "execution_count": 51,
   "metadata": {},
   "outputs": [
    {
     "name": "stdout",
     "output_type": "stream",
     "text": [
      "The process took 22.0381 seconds\n"
     ]
    }
   ],
   "source": [
    "start = time.time()\n",
    "X_test_lbl.loc[0:10000].apply(_check_match,axis = 1 )\n",
    "end = time.time()\n",
    "\n",
    "print(\"The process took {:.4f} seconds\".format(end-start))"
   ]
  },
  {
   "cell_type": "code",
   "execution_count": 52,
   "metadata": {},
   "outputs": [
    {
     "data": {
      "text/plain": [
       "(1598219, 3)"
      ]
     },
     "execution_count": 52,
     "metadata": {},
     "output_type": "execute_result"
    }
   ],
   "source": [
    "X_test_lbl.shape"
   ]
  },
  {
   "cell_type": "code",
   "execution_count": null,
   "metadata": {},
   "outputs": [],
   "source": []
  },
  {
   "cell_type": "code",
   "execution_count": null,
   "metadata": {},
   "outputs": [],
   "source": []
  },
  {
   "cell_type": "code",
   "execution_count": null,
   "metadata": {},
   "outputs": [],
   "source": [
    "graph_draw(g, vertex_text=g.vertex_index, vertex_font_size=18,\n",
    "           output_size=(200, 200), output=\"two-nodes.png\")"
   ]
  }
 ],
 "metadata": {
  "kernelspec": {
   "display_name": "Python 3",
   "language": "python",
   "name": "python3"
  },
  "language_info": {
   "codemirror_mode": {
    "name": "ipython",
    "version": 3
   },
   "file_extension": ".py",
   "mimetype": "text/x-python",
   "name": "python",
   "nbconvert_exporter": "python",
   "pygments_lexer": "ipython3",
   "version": "3.6.7"
  }
 },
 "nbformat": 4,
 "nbformat_minor": 2
}
