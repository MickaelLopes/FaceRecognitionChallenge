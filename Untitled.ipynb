{
 "cells": [
  {
   "cell_type": "code",
   "execution_count": 1,
   "metadata": {},
   "outputs": [],
   "source": [
    "\n",
    "\n",
    "%matplotlib inline\n",
    "import numpy as np\n",
    "import sys\n",
    "import os\n",
    "import pandas as pd\n",
    "import matplotlib.pyplot as plt\n",
    "import math\n",
    "from sklearn.discriminant_analysis import LinearDiscriminantAnalysis\n",
    "\n"
   ]
  },
  {
   "cell_type": "code",
   "execution_count": 3,
   "metadata": {},
   "outputs": [
    {
     "name": "stdout",
     "output_type": "stream",
     "text": [
      "    fA1   fA2  fA3  fA4  fA5  fA6  fA7   fA8   fA9  fA10   ...    fB13  \\\n",
      "0  3.77  1.00  1.0   41  1.0  0.0  0.0 -0.17  0.03  0.00   ...    0.04   \n",
      "1  1.47  0.01  0.0   62  1.0  0.0  0.0  0.30  0.02 -0.01   ...    0.01   \n",
      "2  4.93  1.00  0.0   21  1.0  0.0  0.0  0.00  0.16  0.00   ...    0.07   \n",
      "3  3.89  1.00  0.0   20  1.0  0.0  0.0 -0.35  0.09 -0.01   ...    0.10   \n",
      "4  3.15  0.00  0.0   28  1.0  0.0  0.0  0.08 -0.08 -0.01   ...    0.01   \n",
      "5  1.02  0.00  0.0   28  0.2  0.8  0.0 -0.73  0.00  0.03   ...    0.00   \n",
      "6  1.28  1.00  0.0   21  1.0  0.0  0.0 -0.01 -0.01  0.00   ...   -0.06   \n",
      "7  4.55  1.00  0.0   21  1.0  0.0  0.0  0.01 -0.13  0.00   ...   -0.02   \n",
      "8  1.96  0.98  0.0   20  1.0  0.0  0.0  0.00  0.02  0.00   ...    0.01   \n",
      "9  3.50  0.01  0.0   25  1.0  0.0  0.0  0.00  0.03  0.00   ...    0.00   \n",
      "\n",
      "     fB14      s1      s2      s3      s4      s5      s6      s7      s8  \n",
      "0  271.80  2464.1  2117.2  1760.6  2241.3  1900.3  1462.8  2344.9  1949.8  \n",
      "1  157.15  3975.9  2640.9  2672.6  4233.8  3357.9  2224.0  3341.1  3611.5  \n",
      "2  283.33  3401.1  2644.3  2514.2  3551.3  3019.7  3414.7  2763.6  3252.2  \n",
      "3  298.40  2418.6  2659.6  2742.1  3422.4  2602.6  2784.0  2697.4  2505.1  \n",
      "4  248.69  2309.1  2164.0  1755.6  2377.4  1994.6  2147.6  1902.9  2599.5  \n",
      "5  295.79  3601.8  2421.2  2181.6  5404.0  4235.0  3235.5  2912.1  5100.5  \n",
      "6  300.31  2382.8  2295.3  1648.2  2078.5  2050.1  2009.1  2586.3  2512.8  \n",
      "7  332.82  2598.2  2756.7  2683.6  2602.6  2900.7  2584.2  3248.1  2731.1  \n",
      "8  246.39  3564.0  2322.8  3285.9  3097.6  2517.0  2870.2  2560.5  3283.7  \n",
      "9  285.04  3723.5  2723.9  4009.9  4554.6  4032.4  2732.6  3490.2  3934.6  \n",
      "\n",
      "[10 rows x 36 columns]\n",
      "[0 0 0 0 0 1 0 0 0 0]\n",
      "(100, 36)\n",
      "(100,)\n"
     ]
    }
   ],
   "source": [
    "\n",
    "\n",
    "# Load training data\n",
    "nrows_train = 50\n",
    "nrows_test = 50\n",
    "xtrain = pd.read_csv('InputData/xtrain_challenge.csv', nrows = nrows_train + nrows_test)\n",
    "ytrain = pd.read_csv('InputData/ytrain_challenge.csv', nrows = nrows_train + nrows_test)\n",
    "ytrain = np.array(ytrain).reshape(nrows_train + nrows_test)\n",
    "# Check the number of observations and properties\n",
    "print(xtrain.head(10))\n",
    "print(ytrain[:10])\n",
    "print(xtrain.shape)\n",
    "print(ytrain.shape)\n",
    "\n"
   ]
  },
  {
   "cell_type": "code",
   "execution_count": null,
   "metadata": {},
   "outputs": [],
   "source": []
  }
 ],
 "metadata": {
  "kernelspec": {
   "display_name": "Python 3",
   "language": "python",
   "name": "python3"
  },
  "language_info": {
   "codemirror_mode": {
    "name": "ipython",
    "version": 3
   },
   "file_extension": ".py",
   "mimetype": "text/x-python",
   "name": "python",
   "nbconvert_exporter": "python",
   "pygments_lexer": "ipython3",
   "version": "3.6.8"
  }
 },
 "nbformat": 4,
 "nbformat_minor": 2
}
